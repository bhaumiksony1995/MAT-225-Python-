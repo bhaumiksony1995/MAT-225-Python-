{
 "cells": [
  {
   "cell_type": "code",
   "execution_count": 16,
   "metadata": {
    "collapsed": false
   },
   "outputs": [
    {
     "name": "stdout",
     "output_type": "stream",
     "text": [
      "Reverse:  ['PowderSprings', 'BhaumikSony', 21, 6, 5, 4, 3, 2, 1]\n",
      "Sorted:  [1, 2, 3, 4, 5, 6, 21, 'BhaumikSony', 'PowderSprings']\n",
      "3\n"
     ]
    }
   ],
   "source": [
    "myList=[1,2,3,4,5,6]\n",
    "myList.append(21)\n",
    "myList.append(\"BhaumikSony\")\n",
    "myList.append(\"PowderSprings\")\n",
    "myList.reverse()\n",
    "print \"Reverse: \" , myList\n",
    "myList.sort()\n",
    "print \"Sorted: \" , myList\n",
    "myList.pop(4)\n",
    "print myList[2]\n",
    "myList2=[1,2,3,4]\n",
    "\n",
    "def square(num):\n",
    "    num = num ** 2\n",
    "    myList2.append(num)\n",
    "    print \"New List: \" , myList2"
   ]
  },
  {
   "cell_type": "code",
   "execution_count": 35,
   "metadata": {
    "collapsed": false
   },
   "outputs": [
   ],
   "source": [
    "#Function to convert Base 10 to Base 2\n",
    "def TenToTwo(decimal):\n",
    "    remainders=[]\n",
    "    while (decimal != 0):\n",
    "        r = decimal % 2\n",
    "        remainders.append(r)\n",
    "        decimal=decimal / 2\n",
    "    remainders.reverse()\n",
    "    for x in range(len(remainders)):\n",
    "        print remainders[x]\n",
    "    return remainders"
   ]
  }
 ],
 "metadata": {
  "kernelspec": {
   "display_name": "Python 2 (SageMath)",
   "language": "python",
   "name": "python2"
  },
  "language_info": {
   "codemirror_mode": {
    "name": "ipython",
    "version": 2
   },
   "file_extension": ".py",
   "mimetype": "text/x-python",
   "name": "python",
   "nbconvert_exporter": "python",
   "pygments_lexer": "ipython2",
   "version": "2.7.13"
  }
 },
 "nbformat": 4,
 "nbformat_minor": 0
}