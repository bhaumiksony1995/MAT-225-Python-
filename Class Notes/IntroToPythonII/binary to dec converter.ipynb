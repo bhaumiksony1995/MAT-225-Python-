{
 "cells": [
  {
   "cell_type": "code",
   "execution_count": 9,
   "metadata": {
    "collapsed": false
   },
   "outputs": [
   ],
   "source": [
    "# convert binary digit to decimal\n",
    "def BtoD(num):\n",
    "    length = len(num)\n",
    "    sum = 0\n",
    "    for i in range(0,length):\n",
    "        sum = sum + (num[length-1-i] * 2**i)\n",
    "    return sum"
   ]
  },
  {
   "cell_type": "code",
   "execution_count": 14,
   "metadata": {
    "collapsed": false
   },
   "outputs": [
   ],
   "source": [
    "# convert binary to base 10 integer\n",
    "def binary_to_base10(L):\n",
    "    n = 0\n",
    "    for i in range(len(L)):\n",
    "        k = (len(L)-1)-i\n",
    "        n += L[i]*2**k\n",
    "    return n"
   ]
  },
  {
   "cell_type": "code",
   "execution_count": 12,
   "metadata": {
    "collapsed": false
   },
   "outputs": [
    {
     "data": {
      "text/plain": [
       "13"
      ]
     },
     "execution_count": 12,
     "metadata": {
     },
     "output_type": "execute_result"
    }
   ],
   "source": [
    "BtoD ([1,1,0,1])"
   ]
  },
  {
   "cell_type": "code",
   "execution_count": 16,
   "metadata": {
    "collapsed": false
   },
   "outputs": [
    {
     "data": {
      "text/plain": [
       "42"
      ]
     },
     "execution_count": 16,
     "metadata": {
     },
     "output_type": "execute_result"
    }
   ],
   "source": [
    "binary_to_base10([1,0,1,0,1,0])"
   ]
  },
  {
   "cell_type": "code",
   "execution_count": 3,
   "metadata": {
    "collapsed": false
   },
   "outputs": [
    {
     "name": "stdout",
     "output_type": "stream",
     "text": [
      "('Reverse Order: ', ['Powder Springs', 21, 'Bhaumik Sony', 'Sky', 'Sun', 'Moon', 'Mouse', 'Dog', 'Cat'])\n",
      "('Sorted OrderL ', [21, 'Bhaumik Sony', 'Cat', 'Dog', 'Moon', 'Mouse', 'Powder Springs', 'Sky', 'Sun'])\n",
      "('Popped off 4th item: ', [21, 'Bhaumik Sony', 'Cat', 'Dog', 'Mouse', 'Powder Springs', 'Sky', 'Sun'])\n",
      "('Second item: ', 'Bhaumik Sony')\n",
      "[1, 2, 3, 4, 1, 4, 9, 16]\n"
     ]
    }
   ],
   "source": [
    "# list practice\n",
    "L = [\"Cat\", \"Dog\", \"Mouse\", \"Moon\", \"Sun\", \"Sky\"]\n",
    "L.append(\"Bhaumik Sony\")\n",
    "L.append(21)\n",
    "L.append(\"Powder Springs\")\n",
    "L.reverse()\n",
    "print(\"Reverse Order: \", L)\n",
    "L.sort()\n",
    "print(\"Sorted OrderL \", L)\n",
    "L.pop(4)\n",
    "print(\"Popped off 4th item: \", L)\n",
    "print(\"Second item: \", L[1])\n",
    "\n",
    "Num = [1,2,3,4]\n",
    "for i in range(len(Num)):\n",
    "    square = Num[i] ** 2\n",
    "    Num.append(square)\n",
    "print Num"
   ]
  },
  {
   "cell_type": "code",
   "execution_count": 0,
   "metadata": {
    "collapsed": false
   },
   "outputs": [
   ],
   "source": [
   ]
  },
  {
   "cell_type": "code",
   "execution_count": 0,
   "metadata": {
    "collapsed": false
   },
   "outputs": [
   ],
   "source": [
   ]
  },
  {
   "cell_type": "code",
   "execution_count": 0,
   "metadata": {
    "collapsed": false
   },
   "outputs": [
   ],
   "source": [
   ]
  },
  {
   "cell_type": "code",
   "execution_count": 0,
   "metadata": {
    "collapsed": false
   },
   "outputs": [
   ],
   "source": [
   ]
  }
 ],
 "metadata": {
  "kernelspec": {
   "display_name": "Python 2 (SageMath)",
   "language": "python",
   "name": "python2"
  },
  "language_info": {
   "codemirror_mode": {
    "name": "ipython",
    "version": 2
   },
   "file_extension": ".py",
   "mimetype": "text/x-python",
   "name": "python",
   "nbconvert_exporter": "python",
   "pygments_lexer": "ipython2",
   "version": "2.7.13"
  }
 },
 "nbformat": 4,
 "nbformat_minor": 0
}