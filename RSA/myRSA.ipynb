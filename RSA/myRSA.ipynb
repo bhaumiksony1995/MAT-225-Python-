{
 "cells": [
  {
   "cell_type": "code",
   "execution_count": 17,
   "metadata": {
    "collapsed": false
   },
   "outputs": [
   ],
   "source": [
    "def StringToInteger(x):\n",
    "   return(ord(x)-97)"
   ]
  },
  {
   "cell_type": "code",
   "execution_count": 18,
   "metadata": {
    "collapsed": false
   },
   "outputs": [
   ],
   "source": [
    "def split(longstring): #splits up string into 2 bits\n",
    "    shortList = []\n",
    "    n = 2\n",
    "    shortList = [longstring[i:i+n] for i in range(0, len(longstring), n)]\n",
    "    return shortList"
   ]
  },
  {
   "cell_type": "code",
   "execution_count": 19,
   "metadata": {
    "collapsed": false
   },
   "outputs": [
   ],
   "source": [
    "def DigraphToInteger(mylist): #Converts list of digraphs to one integer\n",
    "    a = mylist[0]\n",
    "    b = mylist[1]\n",
    "    m = a * 100 + b\n",
    "    return m"
   ]
  },
  {
   "cell_type": "code",
   "execution_count": 20,
   "metadata": {
    "collapsed": false
   },
   "outputs": [
   ],
   "source": [
    "def IntegerToDigraph(Decoded): #Converts integer M into integers a,b and returns list of digraphs\n",
    "    myList=[]\n",
    "    for i in range(len(Decoded)):\n",
    "        a = Decoded[i] // 100\n",
    "        b = Decoded[i] % 100\n",
    "        myList.append(a)\n",
    "        myList.append(b)\n",
    "    return myList"
   ]
  },
  {
   "cell_type": "code",
   "execution_count": 21,
   "metadata": {
    "collapsed": false
   },
   "outputs": [
   ],
   "source": [
    "def IntegerToString(x):\n",
    "   return(chr(x+97))"
   ]
  },
  {
   "cell_type": "code",
   "execution_count": 30,
   "metadata": {
    "collapsed": false
   },
   "outputs": [
    {
     "name": "stdout",
     "output_type": "stream",
     "text": [
      "The encoded message is:  [107180, 7770540, 1451496]\n",
      "The decoded message is:  [7321619, 3057276, 5968301]\n",
      "The decrypted message is:  ['\\U00011e61', 't', '矍', '\\xad', '\\ue984', 'b']\n"
     ]
    }
   ],
   "source": [
    "message='Dennyx'\n",
    "#print (\"The message to be encrypted is : \", message)\n",
    "n =  9029507 #31 * 67\n",
    "d = 233\n",
    "e = 1049 #17\n",
    "convertedString=list(map(StringToInteger,message))\n",
    "digraphList = split(convertedString)\n",
    "\n",
    "myList = []\n",
    "Encoded = []\n",
    "Decoded = []\n",
    "DecodedM = []\n",
    "for i in range(len(digraphList)):\n",
    "    myList.append(DigraphToInteger(digraphList[i]))\n",
    "\n",
    "for i in range(len(myList)):\n",
    "    Encoded.append((myList[i]**e) % n)\n",
    "\n",
    "for i in range(len(Encoded)):\n",
    "    Decoded.append((Encoded[i]**d) % n)\n",
    "\n",
    "DecodedM.append((IntegerToDigraph(Decoded)))\n",
    "\n",
    "DecodedString=map(IntegerToString,DecodedM[0])\n",
    "\n",
    "#print (digraphList)\n",
    "#print (myList)\n",
    "print (\"The encoded message is: \", Encoded)\n",
    "print (\"The decoded message is: \", Decoded)\n",
    "#print (DecodedM)\n",
    "print (\"The decrypted message is: \", list(DecodedString))"
   ]
  },
  {
   "cell_type": "code",
   "execution_count": 0,
   "metadata": {
    "collapsed": false
   },
   "outputs": [
   ],
   "source": [
   ]
  }
 ],
 "metadata": {
  "kernelspec": {
   "display_name": "SageMath (stable)",
   "name": "sagemath"
  },
  "language_info": {
   "codemirror_mode": {
    "name": "ipython",
    "version": 2
   },
   "file_extension": ".py",
   "mimetype": "text/x-python",
   "name": "python",
   "nbconvert_exporter": "python",
   "pygments_lexer": "ipython2",
   "version": "2.7.14"
  }
 },
 "nbformat": 4,
 "nbformat_minor": 0
}