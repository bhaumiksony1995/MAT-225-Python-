{
 "cells": [
  {
   "cell_type": "markdown",
   "metadata": {
    "collapsed": false
   },
   "source": [
    "# Why do we use hexadecimal?\n",
    "\n",
    "**Short answer: ** \n",
    "Computers do not use hexadecimal; they use binary.  Humans like hex, since an 8-bit binary number can be represented by two hexadecimal digits.\n",
    "\n"
   ]
  },
  {
   "cell_type": "code",
   "execution_count": 17,
   "metadata": {
    "collapsed": false
   },
   "outputs": [
    {
     "name": "stdout",
     "output_type": "stream",
     "text": [
      "4-bit binary numbers\n",
      "\n",
      "\n",
      "number\t binary\t hexadecimal\n",
      "\n",
      "0\t0\t0\n",
      "1\t1\t1\n",
      "2\t10\t2\n",
      "3\t11\t3\n",
      "4\t100\t4\n",
      "5\t101\t5\n",
      "6\t110\t6\n",
      "7\t111\t7\n",
      "8\t1000\t8\n",
      "9\t1001\t9\n",
      "10\t1010\ta\n",
      "11\t1011\tb\n",
      "12\t1100\tc\n",
      "13\t1101\td\n",
      "14\t1110\te\n",
      "15\t1111\tf\n"
     ]
    }
   ],
   "source": [
    "print '4-bit binary numbers\\n\\n'\n",
    "print 'number\\t binary\\t hexadecimal\\n'\n",
    "for num in range(0,16):\n",
    "    print str(num)+'\\t'+format(num,'b')+'\\t'+format(num,'x')"
   ]
  },
  {
   "cell_type": "code",
   "execution_count": 18,
   "metadata": {
    "collapsed": false
   },
   "outputs": [
    {
     "name": "stdout",
     "output_type": "stream",
     "text": [
      "Encoding ASCII\n",
      "\n",
      "\n",
      "number\t ASCII\t binary\t hexadecimal\n",
      "\n",
      "33\t!\t100001\t21\n",
      "34\t\"\t100010\t22\n",
      "35\t#\t100011\t23\n",
      "36\t$\t100100\t24\n",
      "37\t%\t100101\t25\n",
      "38\t&\t100110\t26\n",
      "39\t'\t100111\t27\n",
      "40\t(\t101000\t28\n",
      "41\t)\t101001\t29\n",
      "42\t*\t101010\t2a\n",
      "43\t+\t101011\t2b\n",
      "44\t,\t101100\t2c\n",
      "45\t-\t101101\t2d\n",
      "46\t.\t101110\t2e\n",
      "47\t/\t101111\t2f\n",
      "48\t0\t110000\t30\n",
      "49\t1\t110001\t31\n",
      "50\t2\t110010\t32\n",
      "51\t3\t110011\t33\n",
      "52\t4\t110100\t34\n",
      "53\t5\t110101\t35\n",
      "54\t6\t110110\t36\n",
      "55\t7\t110111\t37\n",
      "56\t8\t111000\t38\n",
      "57\t9\t111001\t39\n",
      "58\t:\t111010\t3a\n",
      "59\t;\t111011\t3b\n",
      "60\t<\t111100\t3c\n",
      "61\t=\t111101\t3d\n",
      "62\t>\t111110\t3e\n",
      "63\t?\t111111\t3f\n",
      "64\t@\t1000000\t40\n",
      "65\tA\t1000001\t41\n",
      "66\tB\t1000010\t42\n",
      "67\tC\t1000011\t43\n",
      "68\tD\t1000100\t44\n",
      "69\tE\t1000101\t45\n",
      "70\tF\t1000110\t46\n",
      "71\tG\t1000111\t47\n",
      "72\tH\t1001000\t48\n",
      "73\tI\t1001001\t49\n",
      "74\tJ\t1001010\t4a\n",
      "75\tK\t1001011\t4b\n",
      "76\tL\t1001100\t4c\n",
      "77\tM\t1001101\t4d\n",
      "78\tN\t1001110\t4e\n",
      "79\tO\t1001111\t4f\n",
      "80\tP\t1010000\t50\n",
      "81\tQ\t1010001\t51\n",
      "82\tR\t1010010\t52\n",
      "83\tS\t1010011\t53\n",
      "84\tT\t1010100\t54\n",
      "85\tU\t1010101\t55\n",
      "86\tV\t1010110\t56\n",
      "87\tW\t1010111\t57\n",
      "88\tX\t1011000\t58\n",
      "89\tY\t1011001\t59\n",
      "90\tZ\t1011010\t5a\n",
      "91\t[\t1011011\t5b\n",
      "92\t\\\t1011100\t5c\n",
      "93\t]\t1011101\t5d\n",
      "94\t^\t1011110\t5e\n",
      "95\t_\t1011111\t5f\n",
      "96\t`\t1100000\t60\n",
      "97\ta\t1100001\t61\n",
      "98\tb\t1100010\t62\n",
      "99\tc\t1100011\t63\n",
      "100\td\t1100100\t64\n",
      "101\te\t1100101\t65\n",
      "102\tf\t1100110\t66\n",
      "103\tg\t1100111\t67\n",
      "104\th\t1101000\t68\n",
      "105\ti\t1101001\t69\n",
      "106\tj\t1101010\t6a\n",
      "107\tk\t1101011\t6b\n",
      "108\tl\t1101100\t6c\n",
      "109\tm\t1101101\t6d\n",
      "110\tn\t1101110\t6e\n",
      "111\to\t1101111\t6f\n",
      "112\tp\t1110000\t70\n",
      "113\tq\t1110001\t71\n",
      "114\tr\t1110010\t72\n",
      "115\ts\t1110011\t73\n",
      "116\tt\t1110100\t74\n",
      "117\tu\t1110101\t75\n",
      "118\tv\t1110110\t76\n",
      "119\tw\t1110111\t77\n",
      "120\tx\t1111000\t78\n",
      "121\ty\t1111001\t79\n",
      "122\tz\t1111010\t7a\n",
      "123\t{\t1111011\t7b\n",
      "124\t|\t1111100\t7c\n",
      "125\t}\t1111101\t7d\n",
      "126\t~\t1111110\t7e\n",
      "127\t\t1111111\t7f\n"
     ]
    }
   ],
   "source": [
    "print 'Encoding ASCII\\n\\n'\n",
    "print 'number\\t ASCII\\t binary\\t hexadecimal\\n'\n",
    "for num in range(33,128):\n",
    "    print str(num)+'\\t'+chr(num)+'\\t'+format(num,'b')+'\\t'+format(num,'x')"
   ]
  },
  {
   "cell_type": "markdown",
   "metadata": {
    "collapsed": false
   },
   "source": [
    "## Colors in hexadecimal\n",
    "\n",
    "Colors are often represented in a Red-Green-Blue format.  Each of Red, Green, and Blue have intensities that range from 0 to 255.  \n",
    "To represent this with the fewest number of digits, computer scientists use hexadecimal.  This means that colors are given by\n",
    "two hex digits for Red, two for Green, and two for Blue.  That is, RRGGBB.  This gives $16^2 = 256$ shades for each color and\n",
    "$16^2\\times 16^2 \\times 16^2 = 16,777,216$ total color combinations."
   ]
  },
  {
   "cell_type": "code",
   "execution_count": 38,
   "metadata": {
    "collapsed": false
   },
   "outputs": [
    {
     "data": {
      "image/png": "[encoded data removed]"
     },
     "output_type": "execute_result"
    }
   ],
   "source": [
    "import matplotlib.pyplot as plt\n",
    "plt.plot([1,2,3,4], [1,4,9,16], 'o',color='#00FF00')\n",
    "plt.axis([0, 6, 0, 20])\n",
    "plt.show()"
   ]
  },
  {
   "cell_type": "code",
   "execution_count": 0,
   "metadata": {
    "collapsed": false
   },
   "outputs": [
   ],
   "source": [
   ]
  }
 ],
 "metadata": {
  "kernelspec": {
   "display_name": "Python 2 (SageMath)",
   "language": "python",
   "name": "python2"
  },
  "language_info": {
   "codemirror_mode": {
    "name": "ipython",
    "version": 2
   },
   "file_extension": ".py",
   "mimetype": "text/x-python",
   "name": "python",
   "nbconvert_exporter": "python",
   "pygments_lexer": "ipython2",
   "version": "2.7.13"
  }
 },
 "nbformat": 4,
 "nbformat_minor": 0
}