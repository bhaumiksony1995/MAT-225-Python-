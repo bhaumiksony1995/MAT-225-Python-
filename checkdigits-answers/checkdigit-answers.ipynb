{
 "cells": [
  {
   "cell_type": "markdown",
   "metadata": {
    "collapsed": false
   },
   "source": [
    "# Check Digits & Mod:\n",
    "# ISBN and UPC codes"
   ]
  },
  {
   "cell_type": "markdown",
   "metadata": {
    "collapsed": false
   },
   "source": [
    "## ISBN 10\n",
    "\n",
    "For pre-2007 books, the ISBN code contains 10 digits, $d_1d_2\\ldots d_9d_9d_{10}$, with the requirement that\n",
    "\n",
    "$$\n",
    "10*d_{1}+9*d_2+\\cdots +2*d_9+1*d_{10} \\text{ mod } 11 = 0.\n",
    "$$\n",
    "\n",
    "The digit on the right, $d_{10}$, is considered to be the _check digit_.  Note that since we are working mod $11$, we might have a check digit that is $10$.  In that case, we represent the digit by $X$.\n",
    "\n",
    "**Try This:** \n",
    "\n",
    "1. Create a Python function that accepts a string of digits for an ISBN-10 code and returns `True` if the code checks out and `False` if not.\n",
    "1. Apply your function to an actual ISBN-10 number.\n",
    "1. What happens if you make an error in one digit?\n",
    "1. What if two adjacent digits are interchanged?\n",
    "1. What if two non-adjacent digits are interchanged?"
   ]
  },
  {
   "cell_type": "code",
   "execution_count": 42,
   "metadata": {
    "collapsed": false
   },
   "outputs": [
    {
     "data": {
      "text/plain": [
       "10"
      ]
     },
     "execution_count": 42,
     "metadata": {
     },
     "output_type": "execute_result"
    }
   ],
   "source": [
    "s='0883857197'\n",
    "len(s)"
   ]
  },
  {
   "cell_type": "code",
   "execution_count": 43,
   "metadata": {
    "collapsed": false
   },
   "outputs": [
   ],
   "source": [
    "def isbn10(s):\n",
    "    d=[int(s[i]) for i in range(9)]\n",
    "    if s[9]=='X':\n",
    "        d.append(10)\n",
    "    else:\n",
    "        d.append(int(s[9]))\n",
    "    sum=10*d[0]+9*d[1]+8*d[2]+7*d[3]+6*d[4]+5*d[5]+4*d[6]+3*d[7]+2*d[8]+1*d[9]\n",
    "    return sum % 11 == 0,sum % 11"
   ]
  },
  {
   "cell_type": "code",
   "execution_count": 44,
   "metadata": {
    "collapsed": false
   },
   "outputs": [
    {
     "data": {
      "text/plain": [
       "(True, 0)"
      ]
     },
     "execution_count": 44,
     "metadata": {
     },
     "output_type": "execute_result"
    }
   ],
   "source": [
    "isbn10(s)"
   ]
  },
  {
   "cell_type": "code",
   "execution_count": 45,
   "metadata": {
    "collapsed": false
   },
   "outputs": [
    {
     "data": {
      "text/plain": [
       "(True, 0)"
      ]
     },
     "execution_count": 45,
     "metadata": {
     },
     "output_type": "execute_result"
    }
   ],
   "source": [
    "s='039309426X'\n",
    "isbn10(s)"
   ]
  },
  {
   "cell_type": "code",
   "execution_count": 46,
   "metadata": {
    "collapsed": false
   },
   "outputs": [
    {
     "data": {
      "text/plain": [
       "(False, 3)"
      ]
     },
     "execution_count": 46,
     "metadata": {
     },
     "output_type": "execute_result"
    }
   ],
   "source": [
    "#interchange two adjacent digits\n",
    "s1='0883817597'\n",
    "isbn10(s1)"
   ]
  },
  {
   "cell_type": "code",
   "execution_count": 47,
   "metadata": {
    "collapsed": false
   },
   "outputs": [
    {
     "data": {
      "text/plain": [
       "(False, 3)"
      ]
     },
     "execution_count": 47,
     "metadata": {
     },
     "output_type": "execute_result"
    }
   ],
   "source": [
    "#interchange two non-adjacent digits\n",
    "s1='0883817597'\n",
    "isbn10(s1)"
   ]
  },
  {
   "cell_type": "code",
   "execution_count": 48,
   "metadata": {
    "collapsed": false
   },
   "outputs": [
    {
     "data": {
      "text/plain": [
       "(False, 1)"
      ]
     },
     "execution_count": 48,
     "metadata": {
     },
     "output_type": "execute_result"
    }
   ],
   "source": [
    "#interchange two non-adjacent digits\n",
    "s1='0887853197'\n",
    "isbn10(s1)"
   ]
  },
  {
   "cell_type": "code",
   "execution_count": 49,
   "metadata": {
    "collapsed": false
   },
   "outputs": [
    {
     "data": {
      "text/plain": [
       "(False, 10)"
      ]
     },
     "execution_count": 49,
     "metadata": {
     },
     "output_type": "execute_result"
    }
   ],
   "source": [
    "#error in one digit\n",
    "s1='1883857197'\n",
    "isbn10(s1)"
   ]
  },
  {
   "cell_type": "markdown",
   "metadata": {
    "collapsed": false
   },
   "source": [
    "## ISBN 13\n",
    "\n",
    "Beginning in 2007, ISBN codes contain 13 digits and a different check digit scheme is used.  Consider an ISBN-13 number, $d_{1}d_{2}\\ldots d_{11}d_{12}d_{13}$.  The requirement is now\n",
    "\n",
    "$$\n",
    "3*(d_2+d_4+\\cdots+d_{12}) + (d_1+d_3+\\cdots+d_{13}) \\text{ mod } 10 = 0\n",
    "$$\n",
    "\n",
    "Here $d_{13}$ is the _check digit_.\n",
    "\n",
    "**Try This:** \n",
    "\n",
    "1. Create a Python function that accepts a string of digits for an ISBN-13 code and returns `True` if the code checks out and `False` if not.\n",
    "1. Apply your function to an actual ISBN-13 number.\n",
    "1. What happens if you make an error in one digit?\n",
    "1. What if two adjacent digits are interchanged?\n",
    "1. What if two non-adjacent digits are interchanged?\n",
    "\n"
   ]
  },
  {
   "cell_type": "code",
   "execution_count": 50,
   "metadata": {
    "collapsed": false
   },
   "outputs": [
    {
     "data": {
      "text/plain": [
       "13"
      ]
     },
     "execution_count": 50,
     "metadata": {
     },
     "output_type": "execute_result"
    }
   ],
   "source": [
    "s='9780738204536'\n",
    "len(s)"
   ]
  },
  {
   "cell_type": "code",
   "execution_count": 51,
   "metadata": {
    "collapsed": false
   },
   "outputs": [
   ],
   "source": [
    "def isbn13(s):\n",
    "    d=[int(s[i]) for i in range(13)]\n",
    "    sum=3*(d[1]+d[3]+d[5]+d[7]+d[9]+d[11])+d[0]+d[2]+d[4]+d[6]+d[8]+d[10]+d[12]\n",
    "    return sum % 10 == 0,sum % 10"
   ]
  },
  {
   "cell_type": "code",
   "execution_count": 52,
   "metadata": {
    "collapsed": false
   },
   "outputs": [
    {
     "data": {
      "text/plain": [
       "(True, 0)"
      ]
     },
     "execution_count": 52,
     "metadata": {
     },
     "output_type": "execute_result"
    }
   ],
   "source": [
    "isbn13(s)"
   ]
  },
  {
   "cell_type": "code",
   "execution_count": 53,
   "metadata": {
    "collapsed": false
   },
   "outputs": [
    {
     "data": {
      "text/plain": [
       "(False, 6)"
      ]
     },
     "execution_count": 53,
     "metadata": {
     },
     "output_type": "execute_result"
    }
   ],
   "source": [
    "# interchange two adjacent digits\n",
    "s1='9780738024536'\n",
    "isbn13(s1)"
   ]
  },
  {
   "cell_type": "code",
   "execution_count": 0,
   "metadata": {
    "collapsed": false
   },
   "outputs": [
   ],
   "source": [
   ]
  },
  {
   "cell_type": "markdown",
   "metadata": {
    "collapsed": false
   },
   "source": [
    "## UPC codes\n",
    "\n",
    "Universal product codes use a system similar to ISBN-13 except it only has 12 digits.  Consider UPC code, $d_{1}d_{2}\\ldots d_{11}d_{12}$.  The requirement is now\n",
    "\n",
    "$$\n",
    "3*(d_1+d_3+\\cdots+d_{11}) + (d_2+d_4+\\cdots+d_{12}) \\text{ mod } 10 = 0\n",
    "$$\n",
    "\n",
    "Here $d_{12}$ is the _check digit_.\n",
    "\n",
    "**Try This:** \n",
    "\n",
    "1. Create a Python function that accepts a string of digits for a UPC code and returns `True` if the code checks out and `False` if not.\n",
    "1. Apply your function to an actual UPC number.\n",
    "1. What happens if you make an error in one digit?\n",
    "1. What if two adjacent digits are interchanged?\n",
    "1. What if two non-adjacent digits are interchanged?\n",
    "\n"
   ]
  },
  {
   "cell_type": "code",
   "execution_count": 54,
   "metadata": {
    "collapsed": false
   },
   "outputs": [
   ],
   "source": [
    "s='077034009873'"
   ]
  },
  {
   "cell_type": "code",
   "execution_count": 55,
   "metadata": {
    "collapsed": false
   },
   "outputs": [
   ],
   "source": [
    "def upc(s):\n",
    "    d=[int(s[i]) for i in range(12)]\n",
    "    sum=3*(d[0]+d[2]+d[4]+d[6]+d[8]+d[10])+d[1]+d[3]+d[5]+d[7]+d[9]+d[11]\n",
    "    return sum % 10 == 0,sum % 10"
   ]
  },
  {
   "cell_type": "code",
   "execution_count": 56,
   "metadata": {
    "collapsed": false
   },
   "outputs": [
    {
     "data": {
      "text/plain": [
       "(True, 0)"
      ]
     },
     "execution_count": 56,
     "metadata": {
     },
     "output_type": "execute_result"
    }
   ],
   "source": [
    "upc(s)"
   ]
  },
  {
   "cell_type": "code",
   "execution_count": 57,
   "metadata": {
    "collapsed": false
   },
   "outputs": [
    {
     "data": {
      "text/plain": [
       "(False, 2)"
      ]
     },
     "execution_count": 57,
     "metadata": {
     },
     "output_type": "execute_result"
    }
   ],
   "source": [
    "# interchange two adjacent digits\n",
    "s1='077043009873'\n",
    "upc(s1)"
   ]
  },
  {
   "cell_type": "code",
   "execution_count": 60,
   "metadata": {
    "collapsed": false
   },
   "outputs": [
    {
     "data": {
      "text/plain": [
       "(False, 5)"
      ]
     },
     "execution_count": 60,
     "metadata": {
     },
     "output_type": "execute_result"
    }
   ],
   "source": [
    "# error in one digit\n",
    "s1='077534009873'\n",
    "upc(s1)"
   ]
  },
  {
   "cell_type": "code",
   "execution_count": 0,
   "metadata": {
    "collapsed": false
   },
   "outputs": [
   ],
   "source": [
   ]
  }
 ],
 "metadata": {
  "kernelspec": {
   "display_name": "Python 2 (SageMath)",
   "language": "python",
   "name": "python2"
  },
  "language_info": {
   "codemirror_mode": {
    "name": "ipython",
    "version": 2
   },
   "file_extension": ".py",
   "mimetype": "text/x-python",
   "name": "python",
   "nbconvert_exporter": "python",
   "pygments_lexer": "ipython2",
   "version": "2.7.13"
  }
 },
 "nbformat": 4,
 "nbformat_minor": 0
}