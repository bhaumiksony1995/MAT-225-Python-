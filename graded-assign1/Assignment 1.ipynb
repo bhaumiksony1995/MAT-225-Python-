{
 "cells": [
  {
   "cell_type": "code",
   "execution_count": 0,
   "metadata": {
    "collapsed": false
   },
   "outputs": [
   ],
   "source": [
    "#Halfadder function\n",
    "def halfadder(p,q):\n",
    "    c = (p and q)\n",
    "    s = not p and (p or not q)\n",
    "    return (c,s)"
   ]
  },
  {
   "cell_type": "markdown",
   "metadata": {
    "collapsed": false
   },
   "source": [
    "<h3><font color='#FF0000'>_Grading Comment:_ The method for producing `s` is not correct.  It should be $(p\\vee q)\\wedge\\neg(p\\wedge q)$.  This affects the next two programs.<br><br> -10 </font></h3>"
   ]
  },
  {
   "cell_type": "code",
   "execution_count": 0,
   "metadata": {
    "collapsed": false
   },
   "outputs": [
   ],
   "source": [
    "#Fulladder Function\n",
    "def fulladder(p,q,r):\n",
    "    s1 = halfadder(p,q)\n",
    "    c1 = halfadder(p,q)\n",
    "    c2 = halfadder(s1,r)\n",
    "    SUM = halfadder(s1,r)\n",
    "    CARRY = (c1 or c2)\n",
    "    return (SUM, CARRY)"
   ]
  },
  {
   "cell_type": "markdown",
   "metadata": {
    "collapsed": false
   },
   "source": [
    "<h3><font color='#FF0000'>_Grading Comment:_ There is an issue here with how the `halfadder` function returns values.  Note that the `halfadder` returns two values, c and s.  <br><br> -3 </font></h3>"
   ]
  },
  {
   "cell_type": "markdown",
   "metadata": {
    "collapsed": false
   },
   "source": [
    "<h3><font color='#FF0000'>So, the code should be: </font></h3>"
   ]
  },
  {
   "cell_type": "markdown",
   "metadata": {
    "collapsed": false
   },
   "source": [
    "```\n",
    "def fulladder(p,q,r):\n",
    "    (c1,s1) = halfadder(p,q)\n",
    "    (c2,SUM) = halfadder(s1,r)\n",
    "    CARRY = (c1 or c2)\n",
    "    return (SUM, CARRY)\n",
    "```"
   ]
  },
  {
   "cell_type": "code",
   "execution_count": 16,
   "metadata": {
    "collapsed": false
   },
   "outputs": [
    {
     "name": "stdout",
     "output_type": "stream",
     "text": [
      "p\tq\tCarry\tSum\n",
      "True True (True, False) (True, False)\n",
      "True False (False, False) (False, False)\n",
      "False True (False, False) (False, False)\n",
      "False False (False, True) (False, True)\n",
      "p\tq\tr\tCarry\tSum\n"
     ]
    },
    {
     "ename": "NameError",
     "evalue": "name 'r' is not defined",
     "output_type": "error",
     "traceback": [
      "\u001b[0;31m---------------------------------------------------------------------------\u001b[0m",
      "\u001b[0;31mNameError\u001b[0m                                 Traceback (most recent call last)",
      "\u001b[0;32m<ipython-input-16-f28599a214ce>\u001b[0m in \u001b[0;36m<module>\u001b[0;34m()\u001b[0m\n\u001b[1;32m     34\u001b[0m \u001b[0;32mfor\u001b[0m \u001b[0mp\u001b[0m \u001b[0;32min\u001b[0m \u001b[0;34m[\u001b[0m\u001b[0mTrue\u001b[0m\u001b[0;34m,\u001b[0m\u001b[0mFalse\u001b[0m\u001b[0;34m]\u001b[0m\u001b[0;34m:\u001b[0m\u001b[0;34m\u001b[0m\u001b[0m\n\u001b[1;32m     35\u001b[0m     \u001b[0;32mfor\u001b[0m \u001b[0mq\u001b[0m \u001b[0;32min\u001b[0m \u001b[0;34m[\u001b[0m\u001b[0mTrue\u001b[0m\u001b[0;34m,\u001b[0m\u001b[0mFalse\u001b[0m\u001b[0;34m]\u001b[0m\u001b[0;34m:\u001b[0m\u001b[0;34m\u001b[0m\u001b[0m\n\u001b[0;32m---> 36\u001b[0;31m         \u001b[0mc\u001b[0m \u001b[0;34m=\u001b[0m \u001b[0mfulladder\u001b[0m\u001b[0;34m(\u001b[0m\u001b[0mp\u001b[0m\u001b[0;34m,\u001b[0m\u001b[0mq\u001b[0m\u001b[0;34m,\u001b[0m\u001b[0mr\u001b[0m\u001b[0;34m)\u001b[0m\u001b[0;34m\u001b[0m\u001b[0m\n\u001b[0m\u001b[1;32m     37\u001b[0m         \u001b[0ms\u001b[0m \u001b[0;34m=\u001b[0m \u001b[0mfulladder\u001b[0m\u001b[0;34m(\u001b[0m\u001b[0mp\u001b[0m\u001b[0;34m,\u001b[0m\u001b[0mq\u001b[0m\u001b[0;34m,\u001b[0m\u001b[0mr\u001b[0m\u001b[0;34m)\u001b[0m\u001b[0;34m\u001b[0m\u001b[0m\n\u001b[1;32m     38\u001b[0m         \u001b[0;32mprint\u001b[0m \u001b[0mp\u001b[0m\u001b[0;34m,\u001b[0m\u001b[0mq\u001b[0m\u001b[0;34m,\u001b[0m\u001b[0mr\u001b[0m\u001b[0;34m,\u001b[0m\u001b[0mc\u001b[0m\u001b[0;34m,\u001b[0m\u001b[0ms\u001b[0m\u001b[0;34m\u001b[0m\u001b[0m\n",
      "\u001b[0;31mNameError\u001b[0m: name 'r' is not defined"
     ]
    }
   ],
   "source": [
    "#Paralleladder Function\n",
    "def paralleladd(p,q,r,t,u,v):\n",
    "    s1 = halfadder(r,v)\n",
    "    c1 = halfadder(r,v)\n",
    "    s2 = fulladder(q,u,c1)\n",
    "    c2 = fulladder(q,u,c1)\n",
    "    s3 = fulladder(p,t,c2)\n",
    "    CARRY = fulladder(p,t,c2)\n",
    "    return (CARRY, s3, s2, s1)\n",
    "\n",
    "print 'p' + '\\t' + 'q' + '\\t' + 'Carry' + '\\t' + 'Sum'\n",
    "for p in [True,False]:\n",
    "    for q in [True,False]:\n",
    "        c = halfadder(p,q)\n",
    "        s = halfadder(p,q)\n",
    "        print p,q,c,s\n",
    "\n",
    "print 'p' + '\\t' + 'q' + '\\t' + 'r' + '\\t' + 'Carry' + '\\t' + 'Sum'\n",
    "for p in [True,False]:\n",
    "    for q in [True,False]:\n",
    "        c = fulladder(p,q,r)\n",
    "        s = fulladder(p,q,r)\n",
    "        print p,q,r,c,s\n",
    "\n",
    "print 'p' + '\\t' + 'q' + '\\t' + 'r' + '\\t' + 't'+ '\\t' + 'u' + '\\t' + 'v' + '\\t' + 'Carry' + '\\t' + 'Sum1' + '\\t' + 'Sum2' + 't' + 'Sum3'\n",
    "for p in [True,False]:\n",
    "    for q in [True,False]:\n",
    "        c = paralleladder(p,q,r,t,u,v)\n",
    "        s = paralleladder(p,q,r,t,u,v)\n",
    "        print p,q,r,t,u,v,s1,s2,s3"
   ]
  },
  {
   "cell_type": "markdown",
   "metadata": {
    "collapsed": false
   },
   "source": [
    "<h3><font color='#FF0000'>_Grading Comment:_ Same issue here as above with how functions return values.  Also, the parallel adder does not run. <br><br>-10 </font></h3>"
   ]
  },
  {
   "cell_type": "code",
   "execution_count": 0,
   "metadata": {
    "collapsed": false
   },
   "outputs": [
   ],
   "source": [
   ]
  }
 ],
 "metadata": {
  "kernelspec": {
   "display_name": "Python 2 (SageMath)",
   "language": "python",
   "name": "python2"
  },
  "language_info": {
   "codemirror_mode": {
    "name": "ipython",
    "version": 2
   },
   "file_extension": ".py",
   "mimetype": "text/x-python",
   "name": "python",
   "nbconvert_exporter": "python",
   "pygments_lexer": "ipython2",
   "version": "2.7.13"
  }
 },
 "nbformat": 4,
 "nbformat_minor": 0
}