{
 "cells": [
  {
   "cell_type": "code",
   "execution_count": 4,
   "metadata": {
    "collapsed": false,
    "scrolled": true
   },
   "outputs": [
    {
     "name": "stdout",
     "output_type": "stream",
     "text": [
      "Original Message:  DiscreteMathematicsIsFunx\n",
      "Encoded message:  IRUXGY3SMV2GKTLBORUGK3LBORUWG42JONDHK3TY\n",
      "Decoded message check:  DiscreteMathematicsIsFunx\n",
      "\n",
      "Original Message:  bettabordabowiebaddybevel\n",
      "Encoded message:  MJSXI5DBMJXXEZDBMJXXO2LFMJQWIZDZMJSXMZLM\n",
      "Decoded message check:  bettabordabowiebaddybevel\n"
     ]
    }
   ],
   "source": [
    "#make sure length of word is divisible by 5\n",
    "#convert message to ascii\n",
    "#convert message to binary\n",
    "#break it up into groups of 5\n",
    "#convert to letters 0-25 = A-Z , 26-31 = 2-7\n",
    "\n",
    "def convertASCII(message): #converst message to ascii\n",
    "    converted = map(ord,message)\n",
    "    return(converted)\n",
    "\n",
    "def convertBinary(ASCIImessage): #converts ascii message to binary\n",
    "    ans=format(ASCIImessage,'b').zfill(8)\n",
    "    return(ans)\n",
    "\n",
    "def breakEmUp(BinaryMessage): #remakes list\n",
    "    myList = []\n",
    "    myString = \"\"\n",
    "    for i in range(25):\n",
    "        myList.append(BinaryMessage[i])\n",
    "    listString = ''.join(str(e) for e in myList)\n",
    "    return(listString)\n",
    "\n",
    "def split(longstring): #splits up string into 5 bits\n",
    "    shortList = []\n",
    "    n = 5\n",
    "    shortList = [longstring[i:i+n] for i in range(0, len(longstring), n)]\n",
    "    return shortList\n",
    "\n",
    "def convertInt(splitList): #converts binary to int\n",
    "    convertedList = []\n",
    "    for i in range(len(splitList)):\n",
    "        convertedList.append(int(splitList[i], 2))\n",
    "        #print convertedList\n",
    "    return convertedList\n",
    "\n",
    "def INTtoLET(intList): #converts int to letters\n",
    "    endString = \"\"\n",
    "    alpha={i:chr(65+i) for i in range(26)}\n",
    "    alpha.update({26:'2',27:'3',28:'4',29:'5',30:'6',31:'7'})\n",
    "    def text(t):\n",
    "        return (alpha[t])\n",
    "    for i in range(len(intList)):\n",
    "        endString = endString + (text(intList[i]))\n",
    "    print \"Encoded message: \" , endString\n",
    "\n",
    "message = \"DiscreteMathematicsIsFunx\"\n",
    "print \"Original Message: \", message\n",
    "ASCIImessage = convertASCII(message)\n",
    "Binarymessage = map(convertBinary,ASCIImessage)\n",
    "longstring = breakEmUp(Binarymessage)\n",
    "splitList = []\n",
    "splitList = split(longstring)\n",
    "intList = []\n",
    "intList = convertInt(splitList)\n",
    "INTtoLET(intList)\n",
    "\n",
    "import base64\n",
    "print \"Decoded message check: \" , base64.b32decode(\"IRUXGY3SMV2GKTLBORUGK3LBORUWG42JONDHK3TY\")\n",
    "\n",
    "print \"\"\n",
    "\n",
    "MYmessage = \"bettabordabowiebaddybevel\"\n",
    "print \"Original Message: \", MYmessage\n",
    "myASCIImessage = convertASCII(MYmessage)\n",
    "myBinarymessage = map(convertBinary,myASCIImessage)\n",
    "mylongstring = breakEmUp(myBinarymessage)\n",
    "mysplitList = []\n",
    "mysplitList = split(mylongstring)\n",
    "myintList = []\n",
    "myintList = convertInt(mysplitList)\n",
    "INTtoLET(myintList)\n",
    "\n",
    "import base64\n",
    "print \"Decoded message check: \" , base64.b32decode(\"MJSXI5DBMJXXEZDBMJXXO2LFMJQWIZDZMJSXMZLM\")"
   ]
  },
  {
   "cell_type": "code",
   "execution_count": 0,
   "metadata": {
    "collapsed": false
   },
   "outputs": [
   ],
   "source": [
   ]
  }
 ],
 "metadata": {
  "kernelspec": {
   "display_name": "Python 2 (SageMath)",
   "language": "python",
   "name": "python2"
  },
  "language_info": {
   "codemirror_mode": {
    "name": "ipython",
    "version": 2
   },
   "file_extension": ".py",
   "mimetype": "text/x-python",
   "name": "python",
   "nbconvert_exporter": "python",
   "pygments_lexer": "ipython2",
   "version": "2.7.13"
  }
 },
 "nbformat": 4,
 "nbformat_minor": 0
}