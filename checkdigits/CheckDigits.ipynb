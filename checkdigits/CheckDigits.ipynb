{
 "cells": [
  {
   "cell_type": "markdown",
   "metadata": {
    "collapsed": false
   },
   "source": [
    "# Check Digits & Mod: ISBN and UPC codes"
   ]
  },
  {
   "cell_type": "markdown",
   "metadata": {
    "collapsed": false
   },
   "source": [
    "## ISBN 10\n",
    "\n",
    "For pre-2007 books, the ISBN code contains 10 digits, $d_1d_2\\ldots d_9d_9d_{10}$, with the requirement that\n",
    "\n",
    "$$\n",
    "10*d_{1}+9*d_2+\\cdots +2*d_9+1*d_{10} \\text{ mod } 11 = 0.\n",
    "$$\n",
    "\n",
    "The digit on the right, $d_{10}$, is considered to be the _check digit_.  Note that since we are working mod $11$, we might have a check digit that is $10$.  In that case, we represent the digit by $X$.\n",
    "\n",
    "**Try This:** \n",
    "\n",
    "1. Create a Python function that accepts a string of digits for an ISBN-10 code and returns `True` if the code checks out and `False` if not.\n",
    "1. Apply your function to an actual ISBN-10 number.\n",
    "1. What happens if you make an error in one digit?\n",
    "1. What if two adjacent digits are interchanged?\n",
    "1. What if two non-adjacent digits are interchanged?"
   ]
  },
  {
   "cell_type": "code",
   "execution_count": 1,
   "metadata": {
    "collapsed": false
   },
   "outputs": [
    {
     "data": {
      "text/plain": [
       "10"
      ]
     },
     "execution_count": 1,
     "metadata": {
     },
     "output_type": "execute_result"
    }
   ],
   "source": [
    "s='0883857197'\n",
    "len(s)"
   ]
  },
  {
   "cell_type": "code",
   "execution_count": 51,
   "metadata": {
    "collapsed": false
   },
   "outputs": [
    {
     "name": "stdout",
     "output_type": "stream",
     "text": [
      "The ISBN number 039309426X is True\n"
     ]
    }
   ],
   "source": [
    "def checkISBN10(input):\n",
    "    i = 10\n",
    "    sum = 0\n",
    "\n",
    "    for x in range (len(input),0):\n",
    "        if s[x] == 'X':\n",
    "            sum = (sum + (len(input) - x) * 10)\n",
    "        else:\n",
    "            sum = (sum + (len(input) - x) * int(s[x]))\n",
    "        sum = sum + (i * int(input[x]))\n",
    "        print x\n",
    "        i = i - x\n",
    "\n",
    "    sum = sum % 11\n",
    "    if sum == 0:\n",
    "        return True\n",
    "    if sum != 0:\n",
    "        return False\n",
    "\n",
    "s='0883857197'\n",
    "#s='039309426X'\n",
    "int(s)\n",
    "print \"The ISBN number\" ,s, \"is\" , checkISBN10(s)"
   ]
  },
  {
   "cell_type": "code",
   "execution_count": 0,
   "metadata": {
    "collapsed": false
   },
   "outputs": [
   ],
   "source": [
   ]
  },
  {
   "cell_type": "code",
   "execution_count": 0,
   "metadata": {
    "collapsed": false
   },
   "outputs": [
   ],
   "source": [
   ]
  },
  {
   "cell_type": "markdown",
   "metadata": {
    "collapsed": false
   },
   "source": [
    "## ISBN 13\n",
    "\n",
    "Beginning in 2007, ISBN codes contain 13 digits and a different check digit scheme is used.  Consider an ISBN-13 number, $d_{1}d_{2}\\ldots d_{11}d_{12}d_{13}$.  The requirement is now\n",
    "\n",
    "$$\n",
    "3*(d_2+d_4+\\cdots+d_{12}) + (d_1+d_3+\\cdots+d_{13}) \\text{ mod } 10 = 0\n",
    "$$\n",
    "\n",
    "Here $d_{13}$ is the _check digit_.\n",
    "\n",
    "**Try This:** \n",
    "\n",
    "1. Create a Python function that accepts a string of digits for an ISBN-13 code and returns `True` if the code checks out and `False` if not.\n",
    "1. Apply your function to an actual ISBN-13 number.\n",
    "1. What happens if you make an error in one digit?\n",
    "1. What if two adjacent digits are interchanged?\n",
    "1. What if two non-adjacent digits are interchanged?\n",
    "\n"
   ]
  },
  {
   "cell_type": "code",
   "execution_count": 0,
   "metadata": {
    "collapsed": false
   },
   "outputs": [
   ],
   "source": [
    "def checkISBN13:\n",
    "    "
   ]
  },
  {
   "cell_type": "code",
   "execution_count": 0,
   "metadata": {
    "collapsed": false
   },
   "outputs": [
   ],
   "source": [
   ]
  },
  {
   "cell_type": "code",
   "execution_count": 0,
   "metadata": {
    "collapsed": false
   },
   "outputs": [
   ],
   "source": [
   ]
  },
  {
   "cell_type": "code",
   "execution_count": 0,
   "metadata": {
    "collapsed": false
   },
   "outputs": [
   ],
   "source": [
   ]
  },
  {
   "cell_type": "markdown",
   "metadata": {
    "collapsed": false
   },
   "source": [
    "## UPC codes\n",
    "\n",
    "Universal product codes use a system similar to ISBN-13 except it only has 12 digits.  Consider UPC code, $d_{1}d_{2}\\ldots d_{11}d_{12}$.  The requirement is now\n",
    "\n",
    "$$\n",
    "3*(d_1+d_3+\\cdots+d_{11}) + (d_2+d_4+\\cdots+d_{12}) \\text{ mod } 10 = 0\n",
    "$$\n",
    "\n",
    "Here $d_{12}$ is the _check digit_.\n",
    "\n",
    "**Try This:** \n",
    "\n",
    "1. Create a Python function that accepts a string of digits for a UPC code and returns `True` if the code checks out and `False` if not.\n",
    "1. Apply your function to an actual UPC number.\n",
    "1. What happens if you make an error in one digit?\n",
    "1. What if two adjacent digits are interchanged?\n",
    "1. What if two non-adjacent digits are interchanged?\n",
    "\n"
   ]
  },
  {
   "cell_type": "code",
   "execution_count": 0,
   "metadata": {
    "collapsed": false
   },
   "outputs": [
   ],
   "source": [
   ]
  },
  {
   "cell_type": "code",
   "execution_count": 0,
   "metadata": {
    "collapsed": false
   },
   "outputs": [
   ],
   "source": [
   ]
  },
  {
   "cell_type": "code",
   "execution_count": 0,
   "metadata": {
    "collapsed": false
   },
   "outputs": [
   ],
   "source": [
   ]
  },
  {
   "cell_type": "code",
   "execution_count": 0,
   "metadata": {
    "collapsed": false
   },
   "outputs": [
   ],
   "source": [
   ]
  }
 ],
 "metadata": {
  "kernelspec": {
   "display_name": "Python 2 (SageMath)",
   "language": "python",
   "name": "python2"
  },
  "language_info": {
   "codemirror_mode": {
    "name": "ipython",
    "version": 2
   },
   "file_extension": ".py",
   "mimetype": "text/x-python",
   "name": "python",
   "nbconvert_exporter": "python",
   "pygments_lexer": "ipython2",
   "version": "2.7.14"
  }
 },
 "nbformat": 4,
 "nbformat_minor": 0
}